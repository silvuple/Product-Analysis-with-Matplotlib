{
 "cells": [
  {
   "cell_type": "markdown",
   "metadata": {},
   "source": [
    "#### create connection to SQL server database"
   ]
  },
  {
   "cell_type": "code",
   "execution_count": null,
   "metadata": {},
   "outputs": [],
   "source": [
    "import pyodbc\n",
    "\n",
    "server = '' \n",
    "database = '' \n",
    "username = '' \n",
    "password = '' \n",
    "cnxn = pyodbc.connect('driver={SQL Server};server='+server+';database='+database+';uid='+username+';pwd='+ password)\n",
    "\n",
    "#shorter version of the above lines\n",
    "#cnxn = pyodbc.connect('driver={SQL Server};server=;database=;uid=;pwd=')\n",
    "\n",
    "cursor = cnxn.cursor()"
   ]
  },
  {
   "cell_type": "markdown",
   "metadata": {},
   "source": [
    "#### create SQL query"
   ]
  },
  {
   "cell_type": "code",
   "execution_count": null,
   "metadata": {},
   "outputs": [],
   "source": [
    "tableName = ''\n",
    "Category = ''\n",
    "startDate = ''\n",
    "endDate = '' # not including\n",
    "query = \"SELECT * FROM \"+tableName+\" WHERE Category = N'\"+Category+\"' AND TimeStamp BETWEEN '\"+startDate+\"' AND '\"+endDate+\"'\""
   ]
  },
  {
   "cell_type": "markdown",
   "metadata": {},
   "source": [
    "#### create pandas DataFrame from SQL query using Connection"
   ]
  },
  {
   "cell_type": "code",
   "execution_count": null,
   "metadata": {},
   "outputs": [],
   "source": [
    "import pandas as pd\n",
    "\n",
    "df = pd.read_sql_query(query, cnxn)"
   ]
  },
  {
   "cell_type": "markdown",
   "metadata": {},
   "source": [
    "#### save DataFrame to excel for reference or other offline operations"
   ]
  },
  {
   "cell_type": "code",
   "execution_count": null,
   "metadata": {},
   "outputs": [],
   "source": [
    "df.to_excel(r\"EXCEL_FILE_NAME.xlsx\", sheet_name=r'data') "
   ]
  },
  {
   "cell_type": "markdown",
   "metadata": {},
   "source": [
    "#### Correct hebrew display"
   ]
  },
  {
   "cell_type": "code",
   "execution_count": null,
   "metadata": {},
   "outputs": [],
   "source": [
    "from bidi import algorithm as bidialg\n",
    "\n",
    "df.SubCategoryName = df.SubCategoryName.map(bidialg.get_display)\n",
    "df.Product = df.Product.map(bidialg.get_display)"
   ]
  },
  {
   "cell_type": "markdown",
   "metadata": {},
   "source": [
    "#### import libabries for data plotting"
   ]
  },
  {
   "cell_type": "code",
   "execution_count": null,
   "metadata": {},
   "outputs": [],
   "source": [
    "import numpy as np\n",
    "import matplotlib.pyplot as plt\n",
    "import matplotlib.patches as mpatches\n",
    "from matplotlib.ticker import FuncFormatter"
   ]
  },
  {
   "cell_type": "markdown",
   "metadata": {},
   "source": [
    "#### Plot sold quantity by subcategory"
   ]
  },
  {
   "cell_type": "code",
   "execution_count": null,
   "metadata": {},
   "outputs": [],
   "source": [
    "SubCategoryQuantities = df[df.Quantity > 0].groupby(['SubCategoryName']).sum().Quantity.sort_values(ascending=False)"
   ]
  },
  {
   "cell_type": "code",
   "execution_count": null,
   "metadata": {},
   "outputs": [],
   "source": [
    "colors = ['#FF30B0', '#48FF30', '#FFF130',]\n",
    "SubCategoryColors = {x: colors[i] for i, x in enumerate(SubCategoryQuantities.index)}"
   ]
  },
  {
   "cell_type": "code",
   "execution_count": null,
   "metadata": {},
   "outputs": [],
   "source": [
    "# create bar plot figure\n",
    "plt.bar(SubCategoryQuantities.index, SubCategoryQuantities, zorder=3, color=SubCategoryColors.values())\n",
    "\n",
    "\n",
    "# format axis labels usig a fucntion\n",
    "def changeyaxis (x, pos):\n",
    "    \"\"\"the two args are the value and tick position\"\"\"\n",
    "    if x >= 1e6:\n",
    "        s = '{:1.1f}M'.format(x*1e-6)\n",
    "    else:\n",
    "        s = '{:1.1f}K'.format(x*1e-3)\n",
    "    return s\n",
    "\n",
    "yformatter = FuncFormatter(changeyaxis)\n",
    "ax = plt.gca()\n",
    "ax.yaxis.set_major_formatter(yformatter) \n",
    "\n",
    "# format axis borders\n",
    "ax.spines['right'].set_visible(False)\n",
    "ax.spines['top'].set_visible(False) \n",
    "ax.spines['left'].set_color('none')\n",
    "ax.spines['bottom'].set_color('#333333')\n",
    "ax.xaxis.set_ticks_position('bottom')\n",
    "ax.yaxis.set_ticks_position('none')\n",
    "\n",
    "# change y axis intervals\n",
    "ax.yaxis.set_ticks(np.arange(0, max(SubCategoryQuantities)+10000, 10000))\n",
    "\n",
    "\n",
    "# add title\n",
    "ax.set_title(bidialg.get_display(u'כמות יחידות לפי תת-קטגוריה'), fontsize=12, color='#333333', y=1.05) \n",
    "plt.suptitle(bidialg.get_display(u'רכישות'), fontsize=14, fontweight='semibold', color='#333333', y=1.05) \n",
    "\n",
    "# format ticks\n",
    "plt.xticks(fontfamily = 'arial', fontsize = 14, color = '#333333')\n",
    "\n",
    "\n",
    "for i, v in enumerate(SubCategoryQuantities):\n",
    "    plt.annotate(\"{}\".format(changeyaxis(v,0)), xy=(i, v), xytext=(i-.15, v - 2500), color='#0f0f0f', fontweight='semibold')\n",
    "\n",
    "# add grid\n",
    "ax.grid(axis='y', zorder=0)\n",
    "\n",
    "\n",
    "# save plot to png file\n",
    "plt.savefig('quantity_by_subCategory.png', transparent=True, dpi=600, bbox_inches='tight')\n",
    "\n",
    "plt.show()\n",
    "\n"
   ]
  },
  {
   "cell_type": "markdown",
   "metadata": {},
   "source": [
    "#### Plot refunded quantities by subcategory"
   ]
  },
  {
   "cell_type": "code",
   "execution_count": null,
   "metadata": {},
   "outputs": [],
   "source": [
    "SubCategoryQuantitiesRefund = df[df.Quantity < 0].groupby(['SubCategoryName']).sum().Quantity.sort_values()\n",
    "SubCategoryRefundPercentage = -(SubCategoryQuantitiesRefund/SubCategoryQuantities)*100"
   ]
  },
  {
   "cell_type": "code",
   "execution_count": null,
   "metadata": {},
   "outputs": [],
   "source": [
    "fig, ax = plt.subplots()\n",
    "ax.bar(SubCategoryQuantitiesRefund.index, -SubCategoryQuantitiesRefund, zorder=3)\n",
    "\n",
    "# set bar colors based on category\n",
    "for i in SubCategoryQuantitiesRefund.index:\n",
    "    for k, v in SubCategoryColors.items():\n",
    "        if i == k:\n",
    "            ax.get_children()[SubCategoryQuantitiesRefund.index.to_list().index(i)].set_color(v) \n",
    "\n",
    "\n",
    "# format axis borders\n",
    "ax.spines['right'].set_visible(False)\n",
    "ax.spines['top'].set_visible(False) \n",
    "ax.spines['left'].set_color('none')\n",
    "ax.spines['bottom'].set_color('#333333')\n",
    "ax.xaxis.set_ticks_position('bottom')\n",
    "ax.yaxis.set_ticks_position('none')\n",
    "\n",
    "# change y axis intervals\n",
    "ax.yaxis.set_ticks(np.arange(0, -min(SubCategoryQuantitiesRefund)+500, 500))\n",
    "\n",
    "# add title\n",
    "ax.set_title(bidialg.get_display(u'ביטולים - כמות יחידות לפי תת-קטגוריה'), fontsize=12, color='#333333', y=1.05) \n",
    "fig.suptitle(bidialg.get_display(u'ביטולים'), fontsize=14, fontweight='semibold', color='#333333', y=1.05) \n",
    "\n",
    "# format x labels\n",
    "labels = ax.get_xticklabels()\n",
    "plt.setp(labels, fontfamily='arial', fontsize=14, color='#333333')\n",
    "\n",
    "# format y labels\n",
    "yformatter = FuncFormatter(lambda x, pos: '{:,}'.format(x))\n",
    "ax.yaxis.set_major_formatter(yformatter) \n",
    "\n",
    "# add data labels\n",
    "for i, v in enumerate(SubCategoryQuantitiesRefund):\n",
    "    ax.annotate(\"{:,}\".format(-v), xy=(i,-v), xytext=(i-0.12,-v-100), color='#0f0f0f', fontweight='semibold')\n",
    "\n",
    "for i, v in SubCategoryRefundPercentage.iteritems():\n",
    "    for j, label in enumerate(SubCategoryQuantitiesRefund.index):\n",
    "        if i == label:\n",
    "            ax.annotate(\"{:.1f}%\".format(v), xy=(j,50), xytext=(j-0.1,50), color='#0f0f0f', fontweight='semibold')\n",
    "\n",
    "#add grid\n",
    "ax.yaxis.grid(zorder=0)\n",
    "\n",
    "#save plot to png file\n",
    "fig.savefig('refund_quantity_by_subCategory.png', transparent=True, dpi=600, bbox_inches='tight')\n"
   ]
  },
  {
   "cell_type": "markdown",
   "metadata": {},
   "source": [
    "#### Plot 10 leading products by quantity per category (3 plots on one figure)"
   ]
  },
  {
   "cell_type": "code",
   "execution_count": null,
   "metadata": {},
   "outputs": [],
   "source": [
    "ProductQuantity = df[(df.Quantity>0)].groupby(['SubCategoryName','Product']).sum().Quantity.sort_values(ascending=False)"
   ]
  },
  {
   "cell_type": "code",
   "execution_count": null,
   "metadata": {},
   "outputs": [],
   "source": [
    "fig, axs = plt.subplots(ProductQuantity.index.unique(level=0).shape[0], figsize=(11,11))\n",
    "\n",
    "pltnum = 0\n",
    "xmax = ProductQuantity.max() + 500    # Setting max tick for x axis\n",
    "\n",
    "for i in ProductQuantity.index.unique(level=0):\n",
    "    # set bar colors based on category\n",
    "    for k, v in SubCategoryColors.items():\n",
    "        if i == k:\n",
    "            pltcolor = v \n",
    "    axs[pltnum].barh(ProductQuantity.loc[i].head(10).index, ProductQuantity.loc[i].head(10), zorder=3, color=pltcolor)\n",
    "    axs[pltnum].invert_yaxis()\n",
    "    axs[pltnum].set_xlim(0, xmax)\n",
    "    axs[pltnum].xaxis.grid(zorder=0)\n",
    "    axs[pltnum].spines['right'].set_visible(False)\n",
    "    axs[pltnum].spines['top'].set_visible(False)\n",
    "    axs[pltnum].spines['left'].set_visible(False)\n",
    "    axs[pltnum].spines['bottom'].set_visible(False)\n",
    "    axs[pltnum].yaxis.set_ticks_position('left')\n",
    "    axs[pltnum].xaxis.set_ticks_position('none')\n",
    "    pltnum = pltnum + 1\n",
    "\n",
    "\n",
    "# add title\n",
    "fig.suptitle(bidialg.get_display(u'כמות יחידות פר מוצר - 10 המובילים בכל קטגוריה'), y=0.92, fontsize=14, color='#333333') \n",
    "\n",
    "# add legend\n",
    "legend_handles = []\n",
    "for k, v in SubCategoryColors.items():\n",
    "        p = mpatches.Patch(color=v, label=k)\n",
    "        legend_handles.append(p)\n",
    "    \n",
    "fig.legend(loc='center right', handles=legend_handles, fontsize=12)\n",
    "\n",
    "# save plot to png file\n",
    "fig.savefig('top_products_by_quantity_by_subCategory.png', transparent=True, dpi=600, bbox_inches='tight')\n",
    "plt.show()"
   ]
  },
  {
   "cell_type": "markdown",
   "metadata": {},
   "source": [
    "#### Plot leading products by quantity with color coding by category"
   ]
  },
  {
   "cell_type": "code",
   "execution_count": null,
   "metadata": {},
   "outputs": [],
   "source": [
    "# calculate average price per product\n",
    "Product_AvgPrice = (df[(df.Quantity>0)].groupby(['Product']).sum().Amount/df[(df.Quantity>0)].groupby(['Product']).sum().Quantity).rename('Price')\n",
    "# product_quantity_labels2 = []\n",
    "# for product in product_quantity_labels:\n",
    "#     for index, value in Product_AvgPrice.items():\n",
    "#         if product == bidialg.get_display(index):\n",
    "#             product_quantity_labels2.append('(₪ ' + str(round(value)) + ') ' + product)"
   ]
  },
  {
   "cell_type": "code",
   "execution_count": null,
   "metadata": {},
   "outputs": [],
   "source": [
    "\"\"\"choose the number of product to display, default = 30\"\"\"\n",
    "top = 30\n",
    "\n",
    "fig, ax = plt.subplots(figsize=(11,11))\n",
    "ax.barh(ProductQuantity.head(top).index.get_level_values(1), ProductQuantity.head(top), zorder=3)\n",
    "\n",
    "# personalize axis and grids\n",
    "ax.invert_yaxis()\n",
    "ax.set_xlim(0, xmax)\n",
    "ax.xaxis.grid(zorder=0, aa=1)\n",
    "\n",
    "# remove spines and ticks\n",
    "ax.spines['right'].set_visible(False)\n",
    "ax.spines['top'].set_visible(False)\n",
    "ax.spines['left'].set_visible(False)\n",
    "ax.spines['bottom'].set_visible(False)\n",
    "ax.yaxis.set_ticks_position('left')\n",
    "ax.xaxis.set_ticks_position('none')\n",
    "\n",
    "        \n",
    "# set bar colors based on category\n",
    "for i in range(1,top+1,1):\n",
    "    for (i0,i1), v in ProductQuantity.head(i).iteritems():\n",
    "        for k, v in SubCategoryColors.items():\n",
    "            if i0 == k:\n",
    "                ax.get_children()[i-1].set_color(v)         \n",
    "\n",
    "\n",
    "# add legend\n",
    "legend_handles = []\n",
    "for k, v in SubCategoryColors.items():\n",
    "        p = mpatches.Patch(color=v, label=k)\n",
    "        legend_handles.append(p)\n",
    "fig.legend(loc='center right', handles=legend_handles, fontsize=12)\n",
    "\n",
    "\n",
    "# add title\n",
    "fig.suptitle(bidialg.get_display(u'כמות יחידות פר מוצר - {} המובילים'.format(top)), y=0.92, fontsize=14, color='#333333') \n",
    "#ax.set_title(bidialg.get_display(u'בסוגריים מחיר ממוצע של מוצר בתקופה'), fontsize=11, color='#333333') \n",
    "\n",
    "\n",
    "# save plot to png file\n",
    "fig.savefig('top_products_by_quantity.png', transparent=True, dpi=600, bbox_inches='tight')\n",
    "\n",
    "plt.show()"
   ]
  },
  {
   "cell_type": "markdown",
   "metadata": {},
   "source": [
    "### using pivot_table"
   ]
  },
  {
   "cell_type": "code",
   "execution_count": null,
   "metadata": {},
   "outputs": [],
   "source": [
    "labels = pd.pivot_table(df[df.Quantity>0], values='Amount', index=['SubCategoryName'], aggfunc=np.sum).sort_values(by=['Amount'], ascending=False).index\n",
    "values = pd.pivot_table(df[df.Quantity>0], values='Amount', index=['SubCategoryName'], aggfunc=np.sum).sort_values(by=['Amount'], ascending=False).Amount\n",
    "labels, values"
   ]
  }
 ],
 "metadata": {
  "kernelspec": {
   "display_name": "Python 3",
   "language": "python",
   "name": "python3"
  },
  "language_info": {
   "codemirror_mode": {
    "name": "ipython",
    "version": 3
   },
   "file_extension": ".py",
   "mimetype": "text/x-python",
   "name": "python",
   "nbconvert_exporter": "python",
   "pygments_lexer": "ipython3",
   "version": "3.7.3"
  }
 },
 "nbformat": 4,
 "nbformat_minor": 2
}
